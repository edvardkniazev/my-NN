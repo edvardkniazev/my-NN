{
 "cells": [
  {
   "cell_type": "code",
   "execution_count": 1,
   "metadata": {},
   "outputs": [],
   "source": [
    "import numpy as np\n",
    "import matplotlib.pyplot as plt"
   ]
  },
  {
   "cell_type": "code",
   "execution_count": 2,
   "metadata": {},
   "outputs": [],
   "source": [
    "###\n",
    "### Nothing loads temporarily. Later it should be overload.\n",
    "###\n",
    "\n",
    "def load_parameters():\n",
    "    X = np.random.randn(64*64, 200)\n",
    "    Y = np.random.randn(2, 200)\n",
    "    return X, Y"
   ]
  },
  {
   "cell_type": "code",
   "execution_count": 3,
   "metadata": {},
   "outputs": [],
   "source": [
    "def initialize_parameters(X, hidden_layers, Y, sigma):\n",
    "    W = {}\n",
    "    b = {}\n",
    "    n_layer = len(hidden_layers)\n",
    "    n_y = Y.shape[0]\n",
    "\n",
    "    n_unit_prev = X.shape[0]\n",
    "    for i in range(n_layer):\n",
    "        n_unit = hidden_layers[i]\n",
    "        i_layer = str(i + 1)\n",
    "        W[\"W\" + i_layer] = np.random.randn(n_unit, n_unit_prev) * sigma\n",
    "        b[\"b\" + i_layer] = np.zeros((n_unit, 1))\n",
    "        n_unit_prev = n_unit\n",
    "\n",
    "    i_layer = str(n_layer + 1)\n",
    "    W[\"W\" + i_layer] = np.random.randn(n_y, n_unit_prev)\n",
    "    b[\"b\" + i_layer] = np.zeros((n_y, 1))\n",
    "\n",
    "    return W, b"
   ]
  },
  {
   "cell_type": "code",
   "execution_count": 4,
   "metadata": {},
   "outputs": [],
   "source": [
    "def relu(Z):\n",
    "    A = Z * (Z > 0)\n",
    "    return A"
   ]
  },
  {
   "cell_type": "code",
   "execution_count": 5,
   "metadata": {},
   "outputs": [],
   "source": [
    "def sigmoid(Z):\n",
    "    A = 1 / (1 + np.exp(-Z))\n",
    "    return A"
   ]
  },
  {
   "cell_type": "code",
   "execution_count": 6,
   "metadata": {},
   "outputs": [],
   "source": [
    "def one_layer_propagation(A_prev, W, b, activation):\n",
    "    Z = np.dot(W, A_prev) + b\n",
    "    if activation == \"relu\":\n",
    "        A = relu(Z)\n",
    "    elif activation == \"sigmoid\":\n",
    "        A = sigmoid(Z)\n",
    "    return A"
   ]
  },
  {
   "cell_type": "code",
   "execution_count": 7,
   "metadata": {},
   "outputs": [],
   "source": [
    "def cost_calculation(A, Y):\n",
    "    m = Y.shape[1]\n",
    "    return -np.sum((Y * np.log(A) + (1 - Y) * np.log(1 - A))) / m"
   ]
  },
  {
   "cell_type": "code",
   "execution_count": 8,
   "metadata": {},
   "outputs": [],
   "source": [
    "def forward_propagation(X, W, b, Y):\n",
    "    A = {}\n",
    "    n_layer = len(W)\n",
    "    A_prev = X\n",
    "    for i in range(n_layer - 1):\n",
    "        i_layer = str(i + 1)\n",
    "        Wi = W[\"W\" + i_layer]\n",
    "        bi = b[\"b\" + i_layer]\n",
    "        Ai = one_layer_propagation(A_prev, Wi, bi, \"relu\")\n",
    "        A[\"A\" + i_layer] = Ai\n",
    "        A_prev = Ai\n",
    "    i_layer = str(n_layer)\n",
    "    WL = W[\"W\" + i_layer]\n",
    "    bL = b[\"b\" + i_layer]\n",
    "    AL = one_layer_propagation(A_prev, WL, bL, \"sigmoid\")\n",
    "    A[\"A\" + i_layer] = AL\n",
    "    cost = cost_calculation(AL, Y)\n",
    "    return cost, A"
   ]
  },
  {
   "cell_type": "code",
   "execution_count": 9,
   "metadata": {},
   "outputs": [],
   "source": [
    "def backward_propogation(W, b, A):\n",
    "    dW = {}\n",
    "    db = {}\n",
    "    return W, b"
   ]
  },
  {
   "cell_type": "code",
   "execution_count": 12,
   "metadata": {},
   "outputs": [],
   "source": [
    "def model(X, Y, hidden_layers, learning_rate=0.01, sigma=0.01, iteration=1000):\n",
    "    W, b = initialize_parameters(X, hidden_layers, Y, sigma)\n",
    "    for i in range(iteration):\n",
    "        cost, A = forward_propagation(X, W, b, Y)\n",
    "        W, b = backward_propogation(W, b, A)\n",
    "        if i % 100 == 0:\n",
    "            print(\"cost =\", cost)"
   ]
  },
  {
   "cell_type": "code",
   "execution_count": 13,
   "metadata": {},
   "outputs": [
    {
     "name": "stdout",
     "output_type": "stream",
     "text": [
      "cost = 1.3865312658722133\n",
      "cost = 1.3865312658722133\n",
      "cost = 1.3865312658722133\n",
      "cost = 1.3865312658722133\n",
      "cost = 1.3865312658722133\n",
      "cost = 1.3865312658722133\n",
      "cost = 1.3865312658722133\n",
      "cost = 1.3865312658722133\n",
      "cost = 1.3865312658722133\n",
      "cost = 1.3865312658722133\n"
     ]
    }
   ],
   "source": [
    "X, Y = load_parameters()\n",
    "hidden_layers = (4, 3)\n",
    "model(X, Y, hidden_layers)"
   ]
  },
  {
   "cell_type": "code",
   "execution_count": null,
   "metadata": {},
   "outputs": [],
   "source": []
  }
 ],
 "metadata": {
  "kernelspec": {
   "display_name": "Python 3",
   "language": "python",
   "name": "python3"
  },
  "language_info": {
   "codemirror_mode": {
    "name": "ipython",
    "version": 3
   },
   "file_extension": ".py",
   "mimetype": "text/x-python",
   "name": "python",
   "nbconvert_exporter": "python",
   "pygments_lexer": "ipython3",
   "version": "3.7.6"
  }
 },
 "nbformat": 4,
 "nbformat_minor": 4
}
