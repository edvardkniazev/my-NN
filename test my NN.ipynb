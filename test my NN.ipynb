{
 "cells": [
  {
   "cell_type": "code",
   "execution_count": 1,
   "metadata": {},
   "outputs": [],
   "source": [
    "import matplotlib.pyplot as plt\n",
    "%run \"my NN.ipynb\""
   ]
  },
  {
   "cell_type": "code",
   "execution_count": 2,
   "metadata": {},
   "outputs": [],
   "source": [
    "def test_load_parameters():\n",
    "    X, Y = load_parameters()\n",
    "    assert(X.shape[1] == Y.shape[1])\n",
    "    return X, Y\n",
    "X, Y = test_load_parameters()"
   ]
  },
  {
   "cell_type": "code",
   "execution_count": 3,
   "metadata": {},
   "outputs": [],
   "source": [
    "def test_initialize_parameters(X, hidden_layers, Y):\n",
    "    W, b = initialize_parameters(X, hidden_layers, Y, 0.01)\n",
    "\n",
    "    assert(X.shape[0] == W[\"W1\"].shape[1])\n",
    "    assert(W[\"W1\"].shape[0] == W[\"W2\"].shape[1])\n",
    "    assert(W[\"W2\"].shape[0] == W[\"W3\"].shape[1])\n",
    "    assert(W[\"W3\"].shape[0] == Y.shape[0])\n",
    "\n",
    "    assert(b[\"b1\"].shape[0] == W[\"W1\"].shape[0])\n",
    "    assert(b[\"b2\"].shape[0] == W[\"W2\"].shape[0])\n",
    "    assert(b[\"b3\"].shape[0] == W[\"W3\"].shape[0])\n",
    "    assert(b[\"b3\"].shape[0] == Y.shape[0])\n",
    "\n",
    "X, Y = test_load_parameters()\n",
    "test_initialize_parameters(X, (4, 3), Y)"
   ]
  },
  {
   "cell_type": "code",
   "execution_count": 4,
   "metadata": {},
   "outputs": [
    {
     "data": {
      "image/png": "[encoded data removed]",
      "text/plain": [
       "<Figure size 432x288 with 1 Axes>"
      ]
     },
     "metadata": {
      "needs_background": "light"
     },
     "output_type": "display_data"
    }
   ],
   "source": [
    "def test_relu():\n",
    "    Z = np.linspace(-10, 10, 100)\n",
    "    A = relu(Z)\n",
    "\n",
    "    plt.plot(Z, A) \n",
    "    plt.xlabel(\"Z\") \n",
    "    plt.ylabel(\"A = ReLU(Z)\") \n",
    "  \n",
    "    plt.show()\n",
    "\n",
    "test_relu()"
   ]
  },
  {
   "cell_type": "code",
   "execution_count": 5,
   "metadata": {},
   "outputs": [
    {
     "data": {
      "image/png": "[encoded data removed]",
      "text/plain": [
       "<Figure size 432x288 with 1 Axes>"
      ]
     },
     "metadata": {
      "needs_background": "light"
     },
     "output_type": "display_data"
    }
   ],
   "source": [
    "def test_sigmoid():\n",
    "    Z = np.linspace(-10, 10, 100)\n",
    "    A = sigmoid(Z)\n",
    "\n",
    "    plt.plot(Z, A) \n",
    "    plt.xlabel(\"Z\") \n",
    "    plt.ylabel(\"A = Sigmoid(Z)\") \n",
    "  \n",
    "    plt.show()\n",
    "\n",
    "test_sigmoid()"
   ]
  },
  {
   "cell_type": "code",
   "execution_count": 6,
   "metadata": {},
   "outputs": [],
   "source": [
    "def test_single_step_propagation(A, W, b, activation):\n",
    "    return single_step_propagation(A, W, b, activation)\n",
    "\n",
    "W = np.array([[-1, -1, -1],\n",
    "              [ 1,  1,  1]])\n",
    "A = np.array([[1, 0, 0],\n",
    "              [0, 1, 0],\n",
    "              [0, 0, 1]])\n",
    "b = np.array([[0], [0]])\n",
    "Z = test_single_step_propagation(A, W, b, \"relu\")\n",
    "\n",
    "assert (Z == np.array(\n",
    "    [[ 0,  0,  0],\n",
    "     [ 1,  1,  1]])).all\n",
    "\n",
    "W = np.array([[0, 0, 0],\n",
    "              [0, 0, 0]])\n",
    "A = np.array([[0, 0, 0],\n",
    "              [0, 0, 0],\n",
    "              [0, 0, 0]])\n",
    "b = np.array([[0], [0]])\n",
    "Z = single_step_propagation(A, W, b, \"sigmoid\")\n",
    "\n",
    "assert (Z == np.array(\n",
    "    [[0.5, 0.5, 0.5],\n",
    "     [0.5, 0.5, 0.5]])).all"
   ]
  },
  {
   "cell_type": "code",
   "execution_count": 7,
   "metadata": {},
   "outputs": [],
   "source": [
    "def test_cost_calculation(A, Y):\n",
    "    return cost_calculation(A, Y)\n",
    "\n",
    "import math\n",
    "a1 = math.exp(-1)\n",
    "a0 = 1 - a1\n",
    "A = np.array([[a0, a1], [a1, a0]])\n",
    "Y = np.array([[ 0,  1], [ 1,  0]])\n",
    "\n",
    "cost = test_cost_calculation(A, Y)\n",
    "assert (cost == 2.0)"
   ]
  },
  {
   "cell_type": "code",
   "execution_count": 8,
   "metadata": {},
   "outputs": [],
   "source": [
    "def test_forward_propagation(X, W, b, Y):\n",
    "    return forward_propagation(X, W, b, Y)\n",
    "\n",
    "X, Y = np.zeros((2, 2)), np.zeros((2, 2))\n",
    "W, b = initialize_parameters(X, (2,2), Y, 0.01)\n",
    "cost, A = test_forward_propagation(X, W, b, Y)\n",
    "assert (cost == 1.3862943611198906)\n",
    "\n",
    "X, Y = np.array([[1.,2.,-1.],[3.,4.,-3.2]]), np.array([[1,0,1]])\n",
    "W, b = {\"W1\": np.array([[1.,2.]])}, {\"b1\": np.array([[2.]])}\n",
    "cost, A = test_forward_propagation(X, W, b, Y)\n",
    "assert (cost == 5.801545319394553)"
   ]
  },
  {
   "cell_type": "code",
   "execution_count": 9,
   "metadata": {},
   "outputs": [],
   "source": [
    "def test_backward_sigmoid(W, b, A, dW, db):\n",
    "    return backward_sigmoid(W, b, A, dW, db)"
   ]
  },
  {
   "cell_type": "code",
   "execution_count": 10,
   "metadata": {},
   "outputs": [],
   "source": [
    "def test_backward_relu(W, b, A, dW, db):\n",
    "    return test_backward_relu(W, b, A, dW, db)"
   ]
  },
  {
   "cell_type": "code",
   "execution_count": 11,
   "metadata": {},
   "outputs": [
    {
     "name": "stdout",
     "output_type": "stream",
     "text": [
      "W = {'W1': array([[1., 2.]])}\n",
      "b = {'b1': array([[2.]])}\n"
     ]
    }
   ],
   "source": [
    "def test_backward_propogation():\n",
    "    return backward_propogation(W, b, A)\n",
    "\n",
    "dW, db = backward_propogation(W, b, A)\n",
    "print(\"W =\", W)\n",
    "print(\"b =\", b)"
   ]
  },
  {
   "cell_type": "code",
   "execution_count": 12,
   "metadata": {},
   "outputs": [
    {
     "name": "stdout",
     "output_type": "stream",
     "text": [
      "cost = 1.3862760774521072\n",
      "cost = 1.3862760774521072\n"
     ]
    }
   ],
   "source": [
    "def test_model(X, Y, hidden_layers, learning_rate=0.01, sigma=0.01, iteration=1000):\n",
    "    model(X, Y, hidden_layers, learning_rate, sigma, iteration)\n",
    "\n",
    "X, Y = load_parameters()\n",
    "hidden_layers = (5, 3)\n",
    "model(X, Y, hidden_layers, iteration=200)"
   ]
  },
  {
   "cell_type": "code",
   "execution_count": null,
   "metadata": {},
   "outputs": [],
   "source": []
  }
 ],
 "metadata": {
  "kernelspec": {
   "display_name": "Python 3",
   "language": "python",
   "name": "python3"
  },
  "language_info": {
   "codemirror_mode": {
    "name": "ipython",
    "version": 3
   },
   "file_extension": ".py",
   "mimetype": "text/x-python",
   "name": "python",
   "nbconvert_exporter": "python",
   "pygments_lexer": "ipython3",
   "version": "3.7.6"
  }
 },
 "nbformat": 4,
 "nbformat_minor": 4
}
